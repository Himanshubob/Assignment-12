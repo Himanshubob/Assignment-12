{
 "cells": [
  {
   "cell_type": "markdown",
   "id": "a20514e8",
   "metadata": {},
   "source": [
    "# Q1..what is multithreading in python? why is it used? Name the module used to handle threads in python"
   ]
  },
  {
   "cell_type": "markdown",
   "id": "0c7d8f28",
   "metadata": {},
   "source": [
    "# ans... Multithreading in Python is a popular technique that enables multiple tasks to be executed simultaneously \n",
    "# single work  is used to mulptiple time useing the multithreading\n",
    "# import threading"
   ]
  },
  {
   "cell_type": "markdown",
   "id": "553456ec",
   "metadata": {},
   "source": [
    "# Q2..why threading module used? write the use of the following functions\n",
    "# 1.. activeCount()\n",
    "# 2.. currentThread()\n",
    "# 3..enumerate()"
   ]
  },
  {
   "cell_type": "markdown",
   "id": "158eb64f",
   "metadata": {},
   "source": [
    "# ans..threading module is used for creating, controlling and managing threads in python."
   ]
  },
  {
   "cell_type": "markdown",
   "id": "f7ef949d",
   "metadata": {},
   "source": [
    "# threading.active_count() Function\n",
    "# This function returns the number of Thread objects currently alive."
   ]
  },
  {
   "cell_type": "markdown",
   "id": "6745107a",
   "metadata": {},
   "source": [
    "# threading.current_thread()\n",
    "# This function will return the current Thread object, corresponding to the caller's thread of control"
   ]
  },
  {
   "cell_type": "markdown",
   "id": "00464d27",
   "metadata": {},
   "source": [
    "# threading.enumerate()\n",
    "# This method returns a list of all Thread objects currently alive"
   ]
  },
  {
   "cell_type": "markdown",
   "id": "16bd191e",
   "metadata": {},
   "source": [
    "# 3. Explain the following functions\n",
    "# 1.. run()\n",
    "# 2 ..start()\n",
    "# 3..join()\n",
    "# 4.  isAlive()"
   ]
  },
  {
   "cell_type": "markdown",
   "id": "79bcb87d",
   "metadata": {},
   "source": [
    "# run() method executes any target function belonging to a given thread object that is now active."
   ]
  },
  {
   "cell_type": "markdown",
   "id": "596e471f",
   "metadata": {},
   "source": [
    "# The start() function is the first step in making our program easy to understand by humans and by Karel"
   ]
  },
  {
   "cell_type": "markdown",
   "id": "ac5629b9",
   "metadata": {},
   "source": [
    "# the join() method creates and returns a new string by concatenating all of the elements in an array (or an array-like object), separated by commas or a specified separator string"
   ]
  },
  {
   "cell_type": "markdown",
   "id": "3818e99f",
   "metadata": {},
   "source": [
    "# Q4.  write a python program to create two threads. Thread one must print the list of squares and thread  two must print the list of cubes"
   ]
  },
  {
   "cell_type": "code",
   "execution_count": 1,
   "id": "20d173de",
   "metadata": {},
   "outputs": [],
   "source": [
    "import threading "
   ]
  },
  {
   "cell_type": "code",
   "execution_count": 11,
   "id": "c2dc94ae",
   "metadata": {},
   "outputs": [],
   "source": [
    "def sq(n):\n",
    "    for i in n:\n",
    "        print(\"square :{}\".format(i**2))"
   ]
  },
  {
   "cell_type": "code",
   "execution_count": 17,
   "id": "6476e242",
   "metadata": {},
   "outputs": [],
   "source": [
    "if __name__==\"--main--\":\n",
    "    t1=threading.Thread(target=sq,args=(i,))\n",
    "    t1.start()\n",
    "    t1.join()\n",
    "    "
   ]
  },
  {
   "cell_type": "code",
   "execution_count": 18,
   "id": "cafa7f67",
   "metadata": {},
   "outputs": [
    {
     "ename": "NameError",
     "evalue": "name 't1' is not defined",
     "output_type": "error",
     "traceback": [
      "\u001b[1;31m---------------------------------------------------------------------------\u001b[0m",
      "\u001b[1;31mNameError\u001b[0m                                 Traceback (most recent call last)",
      "Cell \u001b[1;32mIn[18], line 1\u001b[0m\n\u001b[1;32m----> 1\u001b[0m \u001b[43mt1\u001b[49m\n",
      "\u001b[1;31mNameError\u001b[0m: name 't1' is not defined"
     ]
    }
   ],
   "source": [
    "t1"
   ]
  },
  {
   "cell_type": "markdown",
   "id": "f4831e6e",
   "metadata": {},
   "source": [
    "# Q5. State advantages and disadvantages of multithreading"
   ]
  },
  {
   "cell_type": "markdown",
   "id": "676546a6",
   "metadata": {},
   "source": [
    "# Advantages:\n",
    "\n",
    "# Improved performance: Multithreading can help increase the overall performance of an application, especially on systems with multiple processors or cores. It allows multiple tasks to run concurrently, utilizing the available CPU resources more efficiently.\n",
    "\n",
    " # Responsiveness: In a single-threaded environment, if a long-running task blocks the main thread, the entire application becomes unresponsive. Multithreading can prevent this issue by running such tasks in separate threads, ensuring the application remains responsive.\n",
    "\n"
   ]
  },
  {
   "cell_type": "markdown",
   "id": "60017fee",
   "metadata": {},
   "source": [
    "# Disadvantages:\n",
    "\n",
    "# Complexity: Multithreading adds complexity to the program, making it more difficult to design, implement, and debug. Developers need to be aware of synchronization, deadlocks, race conditions, and other concurrency-related issues.\n",
    "\n",
    "# Synchronization overhead: To avoid data corruption and maintain consistency, developers must synchronize access to shared resources, which can result in additional overhead and reduced performance."
   ]
  },
  {
   "cell_type": "markdown",
   "id": "16e3e4cd",
   "metadata": {},
   "source": [
    "# Q6. Explain deadlocks and race conditions"
   ]
  },
  {
   "cell_type": "markdown",
   "id": "eac5b0dd",
   "metadata": {},
   "source": [
    "# Race Condition:-\n",
    "# When two processes are competing with each other causing data corruption."
   ]
  },
  {
   "cell_type": "markdown",
   "id": "49a25cbb",
   "metadata": {},
   "source": [
    "# Dead Lock:-\n",
    "# When two processes are waiting for each other directly or indirectly, it is called deadlock."
   ]
  },
  {
   "cell_type": "code",
   "execution_count": null,
   "id": "7583705f",
   "metadata": {},
   "outputs": [],
   "source": []
  }
 ],
 "metadata": {
  "kernelspec": {
   "display_name": "Python 3 (ipykernel)",
   "language": "python",
   "name": "python3"
  },
  "language_info": {
   "codemirror_mode": {
    "name": "ipython",
    "version": 3
   },
   "file_extension": ".py",
   "mimetype": "text/x-python",
   "name": "python",
   "nbconvert_exporter": "python",
   "pygments_lexer": "ipython3",
   "version": "3.10.9"
  }
 },
 "nbformat": 4,
 "nbformat_minor": 5
}
